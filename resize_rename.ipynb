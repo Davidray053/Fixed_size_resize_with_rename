{
 "cells": [
  {
   "cell_type": "code",
   "execution_count": 1,
   "metadata": {},
   "outputs": [],
   "source": [
    "import cv2\n",
    "import os"
   ]
  },
  {
   "cell_type": "code",
   "execution_count": 2,
   "metadata": {},
   "outputs": [],
   "source": [
    "width = 512\n",
    "height = 512\n",
    "dimension = (width,height)"
   ]
  },
  {
   "cell_type": "code",
   "execution_count": 3,
   "metadata": {},
   "outputs": [
    {
     "name": "stdout",
     "output_type": "stream",
     "text": [
      "saving 1\n",
      "saving 2\n",
      "saving 3\n",
      "saving 4\n",
      "saving 5\n",
      "saving 6\n",
      "saving 7\n",
      "saving 8\n",
      "saving 9\n",
      "saving 10\n",
      "saving 11\n",
      "saving 12\n",
      "saving 13\n",
      "saving 14\n",
      "saving 15\n",
      "saving 16\n",
      "saving 17\n",
      "saving 18\n",
      "saving 19\n",
      "saving 20\n",
      "saving 21\n",
      "saving 22\n",
      "saving 23\n",
      "saving 24\n",
      "saving 25\n",
      "saving 26\n",
      "saving 27\n",
      "saving 28\n",
      "saving 29\n",
      "saving 30\n",
      "saving 31\n",
      "saving 32\n",
      "saving 33\n",
      "saving 34\n",
      "saving 35\n",
      "saving 36\n",
      "saving 37\n",
      "saving 38\n",
      "saving 39\n",
      "saving 40\n",
      "saving 41\n",
      "saving 42\n",
      "saving 43\n",
      "saving 44\n",
      "saving 45\n",
      "saving 46\n",
      "saving 47\n",
      "saving 48\n",
      "saving 49\n",
      "saving 50\n",
      "saving 51\n",
      "saving 52\n",
      "saving 53\n",
      "saving 54\n"
     ]
    }
   ],
   "source": [
    "ext = [\".jpg\",\".png\"]\n",
    "\n",
    "def loadImages(path = \".\"):\n",
    "    return [os.path.join(path, f) for f in os.listdir(path) if f.endswith(tuple(ext))]\n",
    "\n",
    "filenames = loadImages()\n",
    "images = []\n",
    "resize_image = []\n",
    "\n",
    "for file in filenames:\n",
    "    images.append(cv2.imread(file, cv2.IMREAD_UNCHANGED))\n",
    "    \n",
    "for image in images:\n",
    "    re = cv2.resize(image,dimension,interpolation=cv2.INTER_AREA)\n",
    "    resize_image.append(re)\n",
    "    \n",
    "num = 1\n",
    "for i in resize_image:\n",
    "    cv2.imwrite(\"database/\"+str(num)+\".jpg\",i)\n",
    "    print(\"saving\", num)\n",
    "    num += 1\n",
    "    \n",
    "    \n",
    "    \n",
    "    \n"
   ]
  },
  {
   "cell_type": "code",
   "execution_count": null,
   "metadata": {},
   "outputs": [],
   "source": [
    "\n",
    "    "
   ]
  }
 ],
 "metadata": {
  "kernelspec": {
   "display_name": "yolov3-gpu",
   "language": "python",
   "name": "yolov3-gpu"
  },
  "language_info": {
   "codemirror_mode": {
    "name": "ipython",
    "version": 3
   },
   "file_extension": ".py",
   "mimetype": "text/x-python",
   "name": "python",
   "nbconvert_exporter": "python",
   "pygments_lexer": "ipython3",
   "version": "3.7.0"
  }
 },
 "nbformat": 4,
 "nbformat_minor": 4
}
